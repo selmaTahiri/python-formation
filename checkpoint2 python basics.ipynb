{
 "cells": [
  {
   "cell_type": "code",
   "execution_count": null,
   "id": "1b40f2ed",
   "metadata": {},
   "outputs": [],
   "source": [
    "from random import randint\n",
    "a = randint(1,101)\n",
    "guess=int(input(\"guess the number=\"))\n",
    "while guess!=a:\n",
    "    if guess > a:\n",
    "        print(\"Your guess is too high. Guess again.\")\n",
    "        guess=int(input(\"guess the number=\"))\n",
    "    elif guess <a:\n",
    "        print(\"Your guess is too low. Guess again.\")\n",
    "        guess=int(input(\"guess the number=\"))\n",
    "    else:\n",
    "        pass\n",
    "print(\"Congratulations! You guessed the number correctly!\")"
   ]
  }
 ],
 "metadata": {
  "kernelspec": {
   "display_name": "Python 3 (ipykernel)",
   "language": "python",
   "name": "python3"
  },
  "language_info": {
   "codemirror_mode": {
    "name": "ipython",
    "version": 3
   },
   "file_extension": ".py",
   "mimetype": "text/x-python",
   "name": "python",
   "nbconvert_exporter": "python",
   "pygments_lexer": "ipython3",
   "version": "3.10.9"
  }
 },
 "nbformat": 4,
 "nbformat_minor": 5
}
