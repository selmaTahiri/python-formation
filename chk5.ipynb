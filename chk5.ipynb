{
 "cells": [
  {
   "cell_type": "code",
   "execution_count": 1,
   "id": "404f8c9b",
   "metadata": {},
   "outputs": [
    {
     "name": "stdout",
     "output_type": "stream",
     "text": [
      "(1, 2, 3)\n"
     ]
    }
   ],
   "source": [
    "class Point3D:\n",
    "    def __init__(self,x,y,z):\n",
    "        self.x=x\n",
    "        self.y=y\n",
    "        self.z=z\n",
    "    def fonction(self):\n",
    "        return self.x, self.y, self.z\n",
    "my_point=Point3D(1,2,3)\n",
    "print(my_point.fonction())"
   ]
  },
  {
   "cell_type": "code",
   "execution_count": 4,
   "id": "b9a6f5dc",
   "metadata": {},
   "outputs": [
    {
     "name": "stdout",
     "output_type": "stream",
     "text": [
      "area =  12\n",
      "perimeter =  14\n"
     ]
    }
   ],
   "source": [
    "class rectangle:\n",
    "    def __init__(self,length,width):\n",
    "        self.length=length\n",
    "        self.width=width\n",
    "    def area(self):\n",
    "        return self.length*self.width\n",
    "    def perimeter(self):\n",
    "        return 2*(self.length+self.width)\n",
    "my_rectangle=rectangle(4,3)\n",
    "print(\"area = \",my_rectangle.area())\n",
    "print(\"perimeter = \", my_rectangle.perimeter())"
   ]
  },
  {
   "cell_type": "code",
   "execution_count": 7,
   "id": "fd0417fd",
   "metadata": {},
   "outputs": [
    {
     "name": "stdout",
     "output_type": "stream",
     "text": [
      "le point n'appartient pas au cercle\n"
     ]
    }
   ],
   "source": [
    "import math\n",
    "class circle:\n",
    "    def __init__(self,O,r):\n",
    "        self.o=O\n",
    "        self.r=r\n",
    "    def area(self):\n",
    "        return π*self.r**2\n",
    "    def perimeter(self):\n",
    "        return 2*π*self.r\n",
    "    def inside(self,x,y):\n",
    "        distance=math.sqrt(x-self.o)**2+(y-self.o)**2\n",
    "        if distance != self.r:\n",
    "            return \"le point n'appartient pas au cercle\"\n",
    "        else:\n",
    "            return \"le point appartient au cercle\"\n",
    "my_circle=circle(0,3)\n",
    "print(my_circle.inside(2,6))"
   ]
  },
  {
   "cell_type": "code",
   "execution_count": 6,
   "id": "574ffbe2",
   "metadata": {},
   "outputs": [
    {
     "name": "stdout",
     "output_type": "stream",
     "text": [
      "800\n",
      "800\n",
      "1100\n"
     ]
    }
   ],
   "source": [
    "class Bank:\n",
    "    def __init__(self, balance):\n",
    "        self.balance=balance\n",
    "    def withdraw(self,montant):\n",
    "        self.balance = self.balance-montant\n",
    "        return self.balance\n",
    "    def deposit(self,montant):\n",
    "        self.balance = self.balance+montant\n",
    "        return self.balance\n",
    "my_bank=Bank(1000)\n",
    "print(my_bank.withdraw(200))\n",
    "print(my_bank.balance)\n",
    "print(my_bank.deposit(300))"
   ]
  },
  {
   "cell_type": "code",
   "execution_count": null,
   "id": "75d13115",
   "metadata": {},
   "outputs": [],
   "source": []
  }
 ],
 "metadata": {
  "kernelspec": {
   "display_name": "Python 3 (ipykernel)",
   "language": "python",
   "name": "python3"
  },
  "language_info": {
   "codemirror_mode": {
    "name": "ipython",
    "version": 3
   },
   "file_extension": ".py",
   "mimetype": "text/x-python",
   "name": "python",
   "nbconvert_exporter": "python",
   "pygments_lexer": "ipython3",
   "version": "3.10.9"
  }
 },
 "nbformat": 4,
 "nbformat_minor": 5
}
