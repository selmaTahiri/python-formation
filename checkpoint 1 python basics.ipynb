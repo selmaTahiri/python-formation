{
 "cells": [
  {
   "cell_type": "code",
   "execution_count": null,
   "id": "fc5babe1",
   "metadata": {},
   "outputs": [],
   "source": [
    "price = float(input(\"entre un prix\"))\n",
    "                    \n",
    "if price >= 200 and price <= 500:\n",
    "                    price = price * 0.5\n",
    "elif price > 500:\n",
    "                    price = price * 0.3\n",
    "                    \n",
    "else:\n",
    "                    pass\n",
    "                    \n",
    "print(price)"
   ]
  }
 ],
 "metadata": {
  "kernelspec": {
   "display_name": "Python 3 (ipykernel)",
   "language": "python",
   "name": "python3"
  },
  "language_info": {
   "codemirror_mode": {
    "name": "ipython",
    "version": 3
   },
   "file_extension": ".py",
   "mimetype": "text/x-python",
   "name": "python",
   "nbconvert_exporter": "python",
   "pygments_lexer": "ipython3",
   "version": "3.10.9"
  }
 },
 "nbformat": 4,
 "nbformat_minor": 5
}
