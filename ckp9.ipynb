{
 "cells": [
  {
   "cell_type": "code",
   "execution_count": 77,
   "id": "a92edc66",
   "metadata": {},
   "outputs": [
    {
     "name": "stdout",
     "output_type": "stream",
     "text": [
      "What is Python language?                                                \n",
      "Python is a widely used high-level, general-purpose, interpreted, dynamic programming language.Its design philosophy emphasizes code readability, and its syntax allows programmers to express concepts in fewer lines of code than possible in \n",
      "languages such as C++ or Java. \n",
      "Python supports multiple programming paradigms, including object-oriented, imperative and functional programming or procedural styles. It features a dynamic type system and automatic memory management and has a large and comprehensive standard library.The best way we learn anything is by practice and exercise questions. We  have started this section for those (beginner to intermediate) who are familiar with Python.\n"
     ]
    }
   ],
   "source": [
    "f = open(\"C:\\\\Users\\slima\\Downloads\\python\\python.txt\",\"r\")\n",
    "print(f.read()) \n"
   ]
  },
  {
   "cell_type": "code",
   "execution_count": 51,
   "id": "002fa7c8",
   "metadata": {},
   "outputs": [
    {
     "name": "stdout",
     "output_type": "stream",
     "text": [
      "What is Python language?                                                \n",
      "\n",
      "Python is a widely used high-level, general-purpose, interpreted, dynamic programming language.Its design philosophy emphasizes code readability, and its syntax allows programmers to express concepts in fewer lines of code than possible in \n",
      "\n",
      "languages such as C++ or Java. \n",
      "\n"
     ]
    }
   ],
   "source": [
    "f = open(\"C:\\\\Users\\slima\\Downloads\\python\\python.txt\",\"r\")\n",
    "print(f.readline())\n",
    "print(f.readline())\n",
    "print(f.readline())"
   ]
  },
  {
   "cell_type": "code",
   "execution_count": 76,
   "id": "689450e9",
   "metadata": {},
   "outputs": [
    {
     "data": {
      "text/plain": [
       "764"
      ]
     },
     "execution_count": 76,
     "metadata": {},
     "output_type": "execute_result"
    }
   ],
   "source": [
    "f = open(\"C:\\\\Users\\slima\\Downloads\\python\\python.txt\",\"r\")\n",
    "t=len(f.read())\n",
    "t"
   ]
  },
  {
   "cell_type": "code",
   "execution_count": 93,
   "id": "dd75b58a",
   "metadata": {},
   "outputs": [
    {
     "name": "stdout",
     "output_type": "stream",
     "text": [
      "What\n",
      "Pyth\n",
      "lang\n",
      "Pyth\n"
     ]
    }
   ],
   "source": [
    "    with open(\"C:\\\\Users\\slima\\Downloads\\python\\python.txt\") as textfile: \n",
    "        for line in textfile:   \n",
    "            print(line[:4]) "
   ]
  },
  {
   "cell_type": "code",
   "execution_count": 102,
   "id": "a49e4f40",
   "metadata": {},
   "outputs": [
    {
     "name": "stdout",
     "output_type": "stream",
     "text": [
      "languages such as C++ or Java. \n",
      "\n",
      "Python supports multiple programming paradigms, including object-oriented, imperative and functional programming or procedural styles. It features a dynamic type system and automatic memory management and has a large and comprehensive standard library.The best way we learn anything is by practice and exercise questions. We  have started this section for those (beginner to intermediate) who are familiar with Python.\n"
     ]
    }
   ],
   "source": [
    "f = open(\"C:\\\\Users\\slima\\Downloads\\python\\python.txt\",\"r\")\n",
    "lines = f.readlines()\n",
    "print(lines[-2])\n",
    "print(lines[-1])"
   ]
  },
  {
   "cell_type": "code",
   "execution_count": 98,
   "id": "7e4354dd",
   "metadata": {},
   "outputs": [
    {
     "name": "stdout",
     "output_type": "stream",
     "text": [
      "languages such as C++ or Java.\n",
      "Python supports multiple programming paradigms, including object-oriented, imperative and functional programming or procedural styles. It features a dynamic type system and automatic memory management and has a large and comprehensive standard library.The best way we learn anything is by practice and exercise questions. We  have started this section for those (beginner to intermediate) who are familiar with Python.\n"
     ]
    }
   ],
   "source": [
    "    def print_last_lines(file_path, num_lines): \n",
    "        with open(file_path, 'r') as file: \n",
    "            lines = file.readlines() \n",
    "            last_lines = lines[-num_lines:] \n",
    "            for line in last_lines: \n",
    "                print(line.rstrip()) \n",
    "     \n",
    "    # Example usage: Print the last 5 lines of a file \n",
    "    file_path = 'path/to/your/file.txt' \n",
    "    num_lines = 5 \n",
    "    print_last_lines(\"C:\\\\Users\\slima\\Downloads\\python\\python.txt\", 2) "
   ]
  },
  {
   "cell_type": "code",
   "execution_count": null,
   "id": "7b99cdab",
   "metadata": {},
   "outputs": [],
   "source": []
  }
 ],
 "metadata": {
  "kernelspec": {
   "display_name": "Python 3 (ipykernel)",
   "language": "python",
   "name": "python3"
  },
  "language_info": {
   "codemirror_mode": {
    "name": "ipython",
    "version": 3
   },
   "file_extension": ".py",
   "mimetype": "text/x-python",
   "name": "python",
   "nbconvert_exporter": "python",
   "pygments_lexer": "ipython3",
   "version": "3.10.9"
  }
 },
 "nbformat": 4,
 "nbformat_minor": 5
}
