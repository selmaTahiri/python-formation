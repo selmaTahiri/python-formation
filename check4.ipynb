{
 "cells": [
  {
   "cell_type": "code",
   "execution_count": 19,
   "id": "64fa6044",
   "metadata": {},
   "outputs": [
    {
     "name": "stdout",
     "output_type": "stream",
     "text": [
      "arrêter ?non\n",
      "entrez un nombre : 2\n",
      "entrez un nombre : 3\n",
      "choose +, -, *, /+\n",
      "5\n",
      "arrêter ?non\n",
      "entrez un nombre : 4\n",
      "entrez un nombre : 1\n",
      "choose +, -, *, /+\n",
      "5\n",
      "arrêter ?oui\n"
     ]
    }
   ],
   "source": [
    "def calculator(num1,num2):\n",
    "    \n",
    "    a=input(\"choose +, -, *, /\")\n",
    "    if a==\"+\":\n",
    "        res=num1+num2\n",
    "        print(res)\n",
    "    elif a==\"-\":\n",
    "        res=num1-num2\n",
    "        print(res)\n",
    "    elif a==\"*\":\n",
    "        res=num1*num2\n",
    "        print(res)\n",
    "    elif a==\"/\":\n",
    "        res=num1/num2\n",
    "        print(res)\n",
    "    else:\n",
    "        print(\"error\")\n",
    "    return(res)\n",
    "\n",
    "\n",
    "while True:\n",
    "    sortir =input(\"arrêter ?\")\n",
    "    if sortir==\"oui\":\n",
    "        break\n",
    "    elif sortir==\"non\":\n",
    "        num1=int(input(\"entrez un nombre : \"))\n",
    "        num2=int(input(\"entrez un nombre : \"))\n",
    "        calculator(num1,num2)  \n",
    "    else:\n",
    "        pass"
   ]
  }
 ],
 "metadata": {
  "kernelspec": {
   "display_name": "Python 3 (ipykernel)",
   "language": "python",
   "name": "python3"
  },
  "language_info": {
   "codemirror_mode": {
    "name": "ipython",
    "version": 3
   },
   "file_extension": ".py",
   "mimetype": "text/x-python",
   "name": "python",
   "nbconvert_exporter": "python",
   "pygments_lexer": "ipython3",
   "version": "3.10.9"
  }
 },
 "nbformat": 4,
 "nbformat_minor": 5
}
