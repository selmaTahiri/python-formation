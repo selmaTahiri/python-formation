{
 "cells": [
  {
   "cell_type": "code",
   "execution_count": 1,
   "id": "23fa8cd1",
   "metadata": {},
   "outputs": [
    {
     "name": "stdout",
     "output_type": "stream",
     "text": [
      "combien d'élèves ?3\n",
      "combien de matières ?2\n",
      "comment s'apelle t-il/elle?Selma\n",
      "entrez la note100\n",
      "entrez la note100\n",
      "comment s'apelle t-il/elle?Yassir\n",
      "entrez la note30\n",
      "entrez la note60\n",
      "comment s'apelle t-il/elle?Reda\n",
      "entrez la note60\n",
      "entrez la note90\n"
     ]
    },
    {
     "data": {
      "text/plain": [
       "{'Selma': {'matiere': [100, 100],\n",
       "  'total': 200,\n",
       "  'pourcentage': 100.0,\n",
       "  'categ': 'A+'},\n",
       " 'Yassir': {'matiere': [30, 60],\n",
       "  'total': 90,\n",
       "  'pourcentage': 45.0,\n",
       "  'categ': 'F'},\n",
       " 'Reda': {'matiere': [60, 90],\n",
       "  'total': 150,\n",
       "  'pourcentage': 75.0,\n",
       "  'categ': 'B+'}}"
      ]
     },
     "execution_count": 1,
     "metadata": {},
     "output_type": "execute_result"
    }
   ],
   "source": [
    "import numpy as np\n",
    "nombre_élève=int(input(\"combien d'élèves ?\"))\n",
    "dic = {}\n",
    "nombre_matière=int(input(\"combien de matières ?\"))\n",
    "matiere = []\n",
    "eleves = []\n",
    "for i in range(nombre_élève):\n",
    "    l=input(\"comment s'apelle t-il/elle?\")\n",
    "    for j in range(nombre_matière):\n",
    "        matiere.append(int(input(\"entrez la note\")))\n",
    "    eleves.append(matiere)\n",
    "    d = {}\n",
    "    d[\"matiere\"] = matiere\n",
    "    a = np.array(matiere)\n",
    "    t = a.sum()\n",
    "    d[\"total\"] = t\n",
    "    pourcentage= t/(nombre_matière*100)*100\n",
    "    d[\"pourcentage\"] = pourcentage\n",
    "\n",
    "    if pourcentage >= 90:\n",
    "        c = 'A+'\n",
    "    elif 80<=pourcentage<90:\n",
    "        c= \"A\"\n",
    "    elif 70<=pourcentage<80:\n",
    "        c = \"B+\"\n",
    "    elif 60<=pourcentage<70:\n",
    "        c = \"B\"\n",
    "    elif 50<=pourcentage<60:\n",
    "        c = \"C\"\n",
    "    elif pourcentage<50:\n",
    "        c = \"F\"\n",
    "    d[\"categ\"] = c\n",
    "    dic[l] = d\n",
    "    \n",
    "    matiere = []\n",
    "dic       "
   ]
  }
 ],
 "metadata": {
  "kernelspec": {
   "display_name": "Python 3 (ipykernel)",
   "language": "python",
   "name": "python3"
  },
  "language_info": {
   "codemirror_mode": {
    "name": "ipython",
    "version": 3
   },
   "file_extension": ".py",
   "mimetype": "text/x-python",
   "name": "python",
   "nbconvert_exporter": "python",
   "pygments_lexer": "ipython3",
   "version": "3.10.9"
  }
 },
 "nbformat": 4,
 "nbformat_minor": 5
}
